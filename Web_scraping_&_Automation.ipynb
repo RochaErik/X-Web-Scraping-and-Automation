{
 "cells": [
  {
   "cell_type": "markdown",
   "metadata": {},
   "source": [
    "## **Situation**\n",
    "\n",
    "Scrape all job postings by area from the links given in the file ‘link_by_areas.csv’. For every link, loop through all the job postings by page, collecting all the information for a given posting. \n",
    "\n",
    "Create an output CSV file with job title, company, experience, salary, location, description, tags associated, function area, posting date, scraping date."
   ]
  },
  {
   "cell_type": "code",
   "execution_count": 3,
   "metadata": {},
   "outputs": [],
   "source": [
    "import pandas as pd\n",
    "from selenium import webdriver\n",
    "import chromedriver_binary\n",
    "from bs4 import BeautifulSoup\n",
    "import time"
   ]
  },
  {
   "cell_type": "code",
   "execution_count": 7,
   "metadata": {},
   "outputs": [
    {
     "name": "stdout",
     "output_type": "stream",
     "text": [
      "(45, 2)\n"
     ]
    },
    {
     "data": {
      "text/html": [
       "<div>\n",
       "<style scoped>\n",
       "    .dataframe tbody tr th:only-of-type {\n",
       "        vertical-align: middle;\n",
       "    }\n",
       "\n",
       "    .dataframe tbody tr th {\n",
       "        vertical-align: top;\n",
       "    }\n",
       "\n",
       "    .dataframe thead th {\n",
       "        text-align: right;\n",
       "    }\n",
       "</style>\n",
       "<table border=\"1\" class=\"dataframe\">\n",
       "  <thead>\n",
       "    <tr style=\"text-align: right;\">\n",
       "      <th></th>\n",
       "      <th>type</th>\n",
       "      <th>link</th>\n",
       "    </tr>\n",
       "  </thead>\n",
       "  <tbody>\n",
       "    <tr>\n",
       "      <th>0</th>\n",
       "      <td>Accounting Jobs</td>\n",
       "      <td>https://www.naukri.com/accounting-jobs?xt=cats...</td>\n",
       "    </tr>\n",
       "    <tr>\n",
       "      <th>1</th>\n",
       "      <td>Interior Design Jobs</td>\n",
       "      <td>https://www.naukri.com/interior-design-jobs?xt...</td>\n",
       "    </tr>\n",
       "    <tr>\n",
       "      <th>2</th>\n",
       "      <td>Bank Jobs</td>\n",
       "      <td>https://www.naukri.com/bank-jobs?xt=catsrch&amp;qf...</td>\n",
       "    </tr>\n",
       "    <tr>\n",
       "      <th>3</th>\n",
       "      <td>Content Writing Jobs</td>\n",
       "      <td>https://www.naukri.com/content-writing-jobs?xt...</td>\n",
       "    </tr>\n",
       "    <tr>\n",
       "      <th>4</th>\n",
       "      <td>Consultant Jobs</td>\n",
       "      <td>https://www.naukri.com/consultant-jobs?xt=cats...</td>\n",
       "    </tr>\n",
       "  </tbody>\n",
       "</table>\n",
       "</div>"
      ],
      "text/plain": [
       "                   type                                               link\n",
       "0       Accounting Jobs  https://www.naukri.com/accounting-jobs?xt=cats...\n",
       "1  Interior Design Jobs  https://www.naukri.com/interior-design-jobs?xt...\n",
       "2             Bank Jobs  https://www.naukri.com/bank-jobs?xt=catsrch&qf...\n",
       "3  Content Writing Jobs  https://www.naukri.com/content-writing-jobs?xt...\n",
       "4       Consultant Jobs  https://www.naukri.com/consultant-jobs?xt=cats..."
      ]
     },
     "execution_count": 7,
     "metadata": {},
     "output_type": "execute_result"
    }
   ],
   "source": [
    "joblinks = pd.read_csv('link_by_areas.csv')\n",
    "print(joblinks.shape)\n",
    "joblinks.head()"
   ]
  },
  {
   "cell_type": "markdown",
   "metadata": {},
   "source": [
    "## Working on the links "
   ]
  },
  {
   "cell_type": "code",
   "execution_count": 8,
   "metadata": {},
   "outputs": [
    {
     "data": {
      "text/plain": [
       "['https://www.naukri.com/accounting-jobs?xt=catsrch&qf[]=1',\n",
       " 'https://www.naukri.com/interior-design-jobs?xt=catsrch&qf[]=2',\n",
       " 'https://www.naukri.com/bank-jobs?xt=catsrch&qf[]=6',\n",
       " 'https://www.naukri.com/content-writing-jobs?xt=catsrch&qf[]=5',\n",
       " 'https://www.naukri.com/consultant-jobs?xt=catsrch&qf[]=9',\n",
       " 'https://www.naukri.com/engineering-jobs?xt=catsrch&qf[]=21',\n",
       " 'https://www.naukri.com/export-import-jobs?xt=catsrch&qf[]=10',\n",
       " 'https://www.naukri.com/merchandiser-jobs?xt=catsrch&qf[]=10',\n",
       " 'https://www.naukri.com/security-jobs?xt=catsrch&qf[]=45',\n",
       " 'https://www.naukri.com/hr-jobs?xt=catsrch&qf[]=12',\n",
       " 'https://www.naukri.com/hotel-jobs?xt=catsrch&qf[]=4',\n",
       " 'https://www.naukri.com/application-programming-jobs?xt=catsrch&qf[]=24.01',\n",
       " 'https://www.naukri.com/client-server-jobs?xt=catsrch&qf[]=24.02',\n",
       " 'https://www.naukri.com/dba-jobs?xt=catsrch&qf[]=24.03',\n",
       " 'https://www.naukri.com/ecommerce-jobs?xt=catsrch&qf[]=24.12',\n",
       " 'https://www.naukri.com/erp-jobs?xt=catsrch&qf[]=24.04',\n",
       " 'https://www.naukri.com/vlsi-jobs?xt=catsrch&qf[]=24.05',\n",
       " 'https://www.naukri.com/mainframe-jobs?xt=catsrch&qf[]=24.13',\n",
       " 'https://www.naukri.com/middleware-jobs?xt=catsrch&qf[]=24.15',\n",
       " 'https://www.naukri.com/mobile-jobs?xt=catsrch&qf[]=24.14',\n",
       " 'https://www.naukri.com/network-administrator-jobs?xt=catsrch&qf[]=24.06',\n",
       " 'https://www.naukri.com/information-technology-jobs?xt=catsrch&qf[]=24',\n",
       " 'https://www.naukri.com/testing-jobs?xt=catsrch&qf[]=24.08',\n",
       " 'https://www.naukri.com/system-programming-jobs?xt=catsrch&qf[]=24.09',\n",
       " 'https://www.naukri.com/edp-jobs?xt=catsrch&qf[]=24.11',\n",
       " 'https://www.naukri.com/telecom-software-jobs?xt=catsrch&qf[]=24.10',\n",
       " 'https://www.naukri.com/telecom-jobs?xt=catsrch&qf[]=37',\n",
       " 'https://www.naukri.com/bpo-jobs?xt=catsrch&qf[]=8',\n",
       " 'https://www.naukri.com/legal-jobs?xt=catsrch&qf[]=13',\n",
       " 'https://www.naukri.com/marketing-jobs?xt=catsrch&qf[]=15',\n",
       " 'https://www.naukri.com/packaging-jobs?xt=catsrch&qf[]=18',\n",
       " 'https://www.naukri.com/pharma-jobs?xt=catsrch&qf[]=16',\n",
       " 'https://www.naukri.com/maintenance-jobs?xt=catsrch&qf[]=19',\n",
       " 'https://www.naukri.com/logistics-jobs?xt=catsrch&qf[]=14',\n",
       " 'https://www.naukri.com/sales-jobs?xt=catsrch&qf[]=22',\n",
       " 'https://www.naukri.com/secretary-jobs?xt=catsrch&qf[]=11',\n",
       " 'https://www.naukri.com/corporate-planning-jobs?xt=catsrch&qf[]=7',\n",
       " 'https://www.naukri.com/site-engineering-jobs?xt=catsrch&qf[]=20',\n",
       " 'https://www.naukri.com/film-jobs?xt=catsrch&qf[]=43',\n",
       " 'https://www.naukri.com/teaching-jobs?xt=catsrch&qf[]=36',\n",
       " 'https://www.naukri.com/airline-jobs?xt=catsrch&qf[]=44',\n",
       " 'https://www.naukri.com/graphic-designer-jobs?xt=catsrch&qf[]=3',\n",
       " 'https://www.naukri.com/shipping-jobs?xt=catsrch&qf[]=82',\n",
       " 'https://www.naukri.com/analytics-jobs?xt=catsrch&qf[]=81',\n",
       " 'https://www.naukri.com/business-intelligence-jobs?xt=catsrch&qf[]=81']"
      ]
     },
     "execution_count": 8,
     "metadata": {},
     "output_type": "execute_result"
    }
   ],
   "source": [
    "urls = joblinks.link.tolist()\n",
    "urls"
   ]
  },
  {
   "cell_type": "markdown",
   "metadata": {},
   "source": [
    "In order to make the **urls** generic. We will need use a library called **Yarl**(Yet another URL library). All url parts: scheme, user, password, host, port, path, query and fragment are accessible by yarl properties.\n",
    "\n",
    "We will use **yarl** to access different parts of the variuos **urls**."
   ]
  },
  {
   "cell_type": "code",
   "execution_count": 15,
   "metadata": {},
   "outputs": [],
   "source": [
    "from yarl import URL\n",
    "\n",
    "n = []\n",
    "\n",
    "for i in urls:\n",
    "    n.append(URL(i).path) #getting the job type part of the url using yarl property: path"
   ]
  },
  {
   "cell_type": "code",
   "execution_count": 16,
   "metadata": {},
   "outputs": [
    {
     "name": "stdout",
     "output_type": "stream",
     "text": [
      "['/accounting-jobs', '/interior-design-jobs', '/bank-jobs', '/content-writing-jobs', '/consultant-jobs', '/engineering-jobs', '/export-import-jobs', '/merchandiser-jobs', '/security-jobs', '/hr-jobs', '/hotel-jobs', '/application-programming-jobs', '/client-server-jobs', '/dba-jobs', '/ecommerce-jobs', '/erp-jobs', '/vlsi-jobs', '/mainframe-jobs', '/middleware-jobs', '/mobile-jobs', '/network-administrator-jobs', '/information-technology-jobs', '/testing-jobs', '/system-programming-jobs', '/edp-jobs', '/telecom-software-jobs', '/telecom-jobs', '/bpo-jobs', '/legal-jobs', '/marketing-jobs', '/packaging-jobs', '/pharma-jobs', '/maintenance-jobs', '/logistics-jobs', '/sales-jobs', '/secretary-jobs', '/corporate-planning-jobs', '/site-engineering-jobs', '/film-jobs', '/teaching-jobs', '/airline-jobs', '/graphic-designer-jobs', '/shipping-jobs', '/analytics-jobs', '/business-intelligence-jobs']\n"
     ]
    }
   ],
   "source": [
    "print(n)"
   ]
  },
  {
   "cell_type": "code",
   "execution_count": 13,
   "metadata": {},
   "outputs": [],
   "source": [
    "m = []\n",
    "\n",
    "for i in urls:\n",
    "    m.append(URL(i).query_string)"
   ]
  },
  {
   "cell_type": "code",
   "execution_count": 14,
   "metadata": {},
   "outputs": [
    {
     "name": "stdout",
     "output_type": "stream",
     "text": [
      "['xt=catsrch&qf[]=1', 'xt=catsrch&qf[]=2', 'xt=catsrch&qf[]=6', 'xt=catsrch&qf[]=5', 'xt=catsrch&qf[]=9', 'xt=catsrch&qf[]=21', 'xt=catsrch&qf[]=10', 'xt=catsrch&qf[]=10', 'xt=catsrch&qf[]=45', 'xt=catsrch&qf[]=12', 'xt=catsrch&qf[]=4', 'xt=catsrch&qf[]=24.01', 'xt=catsrch&qf[]=24.02', 'xt=catsrch&qf[]=24.03', 'xt=catsrch&qf[]=24.12', 'xt=catsrch&qf[]=24.04', 'xt=catsrch&qf[]=24.05', 'xt=catsrch&qf[]=24.13', 'xt=catsrch&qf[]=24.15', 'xt=catsrch&qf[]=24.14', 'xt=catsrch&qf[]=24.06', 'xt=catsrch&qf[]=24', 'xt=catsrch&qf[]=24.08', 'xt=catsrch&qf[]=24.09', 'xt=catsrch&qf[]=24.11', 'xt=catsrch&qf[]=24.10', 'xt=catsrch&qf[]=37', 'xt=catsrch&qf[]=8', 'xt=catsrch&qf[]=13', 'xt=catsrch&qf[]=15', 'xt=catsrch&qf[]=18', 'xt=catsrch&qf[]=16', 'xt=catsrch&qf[]=19', 'xt=catsrch&qf[]=14', 'xt=catsrch&qf[]=22', 'xt=catsrch&qf[]=11', 'xt=catsrch&qf[]=7', 'xt=catsrch&qf[]=20', 'xt=catsrch&qf[]=43', 'xt=catsrch&qf[]=36', 'xt=catsrch&qf[]=44', 'xt=catsrch&qf[]=3', 'xt=catsrch&qf[]=82', 'xt=catsrch&qf[]=81', 'xt=catsrch&qf[]=81']\n"
     ]
    }
   ],
   "source": [
    "print(m)"
   ]
  },
  {
   "cell_type": "code",
   "execution_count": 18,
   "metadata": {},
   "outputs": [],
   "source": [
    "# Adding '-{}?' for the page number\n",
    "\n",
    "common_url = []\n",
    "\n",
    "for i in range(len(n)):\n",
    "    url = 'https://www.naukri.com/' + n[i] + '-{}?' + m[i]\n",
    "    common_url.append(url)"
   ]
  },
  {
   "cell_type": "code",
   "execution_count": 19,
   "metadata": {},
   "outputs": [
    {
     "data": {
      "text/plain": [
       "['https://www.naukri.com//accounting-jobs-{}?xt=catsrch&qf[]=1',\n",
       " 'https://www.naukri.com//interior-design-jobs-{}?xt=catsrch&qf[]=2',\n",
       " 'https://www.naukri.com//bank-jobs-{}?xt=catsrch&qf[]=6',\n",
       " 'https://www.naukri.com//content-writing-jobs-{}?xt=catsrch&qf[]=5',\n",
       " 'https://www.naukri.com//consultant-jobs-{}?xt=catsrch&qf[]=9',\n",
       " 'https://www.naukri.com//engineering-jobs-{}?xt=catsrch&qf[]=21',\n",
       " 'https://www.naukri.com//export-import-jobs-{}?xt=catsrch&qf[]=10',\n",
       " 'https://www.naukri.com//merchandiser-jobs-{}?xt=catsrch&qf[]=10',\n",
       " 'https://www.naukri.com//security-jobs-{}?xt=catsrch&qf[]=45',\n",
       " 'https://www.naukri.com//hr-jobs-{}?xt=catsrch&qf[]=12',\n",
       " 'https://www.naukri.com//hotel-jobs-{}?xt=catsrch&qf[]=4',\n",
       " 'https://www.naukri.com//application-programming-jobs-{}?xt=catsrch&qf[]=24.01',\n",
       " 'https://www.naukri.com//client-server-jobs-{}?xt=catsrch&qf[]=24.02',\n",
       " 'https://www.naukri.com//dba-jobs-{}?xt=catsrch&qf[]=24.03',\n",
       " 'https://www.naukri.com//ecommerce-jobs-{}?xt=catsrch&qf[]=24.12',\n",
       " 'https://www.naukri.com//erp-jobs-{}?xt=catsrch&qf[]=24.04',\n",
       " 'https://www.naukri.com//vlsi-jobs-{}?xt=catsrch&qf[]=24.05',\n",
       " 'https://www.naukri.com//mainframe-jobs-{}?xt=catsrch&qf[]=24.13',\n",
       " 'https://www.naukri.com//middleware-jobs-{}?xt=catsrch&qf[]=24.15',\n",
       " 'https://www.naukri.com//mobile-jobs-{}?xt=catsrch&qf[]=24.14',\n",
       " 'https://www.naukri.com//network-administrator-jobs-{}?xt=catsrch&qf[]=24.06',\n",
       " 'https://www.naukri.com//information-technology-jobs-{}?xt=catsrch&qf[]=24',\n",
       " 'https://www.naukri.com//testing-jobs-{}?xt=catsrch&qf[]=24.08',\n",
       " 'https://www.naukri.com//system-programming-jobs-{}?xt=catsrch&qf[]=24.09',\n",
       " 'https://www.naukri.com//edp-jobs-{}?xt=catsrch&qf[]=24.11',\n",
       " 'https://www.naukri.com//telecom-software-jobs-{}?xt=catsrch&qf[]=24.10',\n",
       " 'https://www.naukri.com//telecom-jobs-{}?xt=catsrch&qf[]=37',\n",
       " 'https://www.naukri.com//bpo-jobs-{}?xt=catsrch&qf[]=8',\n",
       " 'https://www.naukri.com//legal-jobs-{}?xt=catsrch&qf[]=13',\n",
       " 'https://www.naukri.com//marketing-jobs-{}?xt=catsrch&qf[]=15',\n",
       " 'https://www.naukri.com//packaging-jobs-{}?xt=catsrch&qf[]=18',\n",
       " 'https://www.naukri.com//pharma-jobs-{}?xt=catsrch&qf[]=16',\n",
       " 'https://www.naukri.com//maintenance-jobs-{}?xt=catsrch&qf[]=19',\n",
       " 'https://www.naukri.com//logistics-jobs-{}?xt=catsrch&qf[]=14',\n",
       " 'https://www.naukri.com//sales-jobs-{}?xt=catsrch&qf[]=22',\n",
       " 'https://www.naukri.com//secretary-jobs-{}?xt=catsrch&qf[]=11',\n",
       " 'https://www.naukri.com//corporate-planning-jobs-{}?xt=catsrch&qf[]=7',\n",
       " 'https://www.naukri.com//site-engineering-jobs-{}?xt=catsrch&qf[]=20',\n",
       " 'https://www.naukri.com//film-jobs-{}?xt=catsrch&qf[]=43',\n",
       " 'https://www.naukri.com//teaching-jobs-{}?xt=catsrch&qf[]=36',\n",
       " 'https://www.naukri.com//airline-jobs-{}?xt=catsrch&qf[]=44',\n",
       " 'https://www.naukri.com//graphic-designer-jobs-{}?xt=catsrch&qf[]=3',\n",
       " 'https://www.naukri.com//shipping-jobs-{}?xt=catsrch&qf[]=82',\n",
       " 'https://www.naukri.com//analytics-jobs-{}?xt=catsrch&qf[]=81',\n",
       " 'https://www.naukri.com//business-intelligence-jobs-{}?xt=catsrch&qf[]=81']"
      ]
     },
     "execution_count": 19,
     "metadata": {},
     "output_type": "execute_result"
    }
   ],
   "source": [
    "common_url"
   ]
  },
  {
   "cell_type": "markdown",
   "metadata": {},
   "source": [
    "## **Scriping the data**"
   ]
  },
  {
   "cell_type": "code",
   "execution_count": 20,
   "metadata": {},
   "outputs": [
    {
     "data": {
      "text/html": [
       "<div>\n",
       "<style scoped>\n",
       "    .dataframe tbody tr th:only-of-type {\n",
       "        vertical-align: middle;\n",
       "    }\n",
       "\n",
       "    .dataframe tbody tr th {\n",
       "        vertical-align: top;\n",
       "    }\n",
       "\n",
       "    .dataframe thead th {\n",
       "        text-align: right;\n",
       "    }\n",
       "</style>\n",
       "<table border=\"1\" class=\"dataframe\">\n",
       "  <thead>\n",
       "    <tr style=\"text-align: right;\">\n",
       "      <th></th>\n",
       "      <th>Job_Title</th>\n",
       "      <th>Experience</th>\n",
       "      <th>Company</th>\n",
       "      <th>Scraping_Date</th>\n",
       "      <th>Salary</th>\n",
       "      <th>Location</th>\n",
       "      <th>Tags_Associated</th>\n",
       "      <th>Posting_Date</th>\n",
       "    </tr>\n",
       "  </thead>\n",
       "  <tbody>\n",
       "  </tbody>\n",
       "</table>\n",
       "</div>"
      ],
      "text/plain": [
       "Empty DataFrame\n",
       "Columns: [Job_Title, Experience, Company, Scraping_Date, Salary, Location, Tags_Associated, Posting_Date]\n",
       "Index: []"
      ]
     },
     "execution_count": 20,
     "metadata": {},
     "output_type": "execute_result"
    }
   ],
   "source": [
    "df = pd.DataFrame(columns=['Job_Title','Experience','Company','Scraping_Date','Salary','Location','Tags_Associated','Posting_Date'])\n",
    "df"
   ]
  },
  {
   "cell_type": "code",
   "execution_count": null,
   "metadata": {},
   "outputs": [],
   "source": [
    "# The code for scraping the web\n",
    "\n",
    "for page in range(1,2):\n",
    "    for iurl in common_url:\n",
    "        url = iurl.format(page)\n",
    "        driver = webdriver.Chrome('C:\\Program Files\\Chromedriver')\n",
    "        driver.get(url)\n",
    "\n",
    "        time.sleep(10) # Time between the searches to avoid being detected as a bot\n",
    "\n",
    "        soup = BeautifulSoup(driver.page_source, 'html5lib')\n",
    "\n",
    "        driver.close()\n",
    "\n",
    "        \n",
    "        results = soup.find(class_='list')\n",
    "        job_elements = results.find_all('article', class_='jobTuple bgWhite br4 mb-8') # class where job information is located\n",
    "\n",
    "        for job_element in job_elements:\n",
    "\n",
    "            # scraping the titles\n",
    "            job_title = job_element.find('a', class_='title fw500 ellipsis')\n",
    "            print(job_title.text)\n",
    "\n",
    "            # scraping the experience\n",
    "            exp = job_element.find('li', class_='fleft grey-text br2 placeHolderLi experience')\n",
    "            exp_span = exp.find('span', class_='ellipsis fleft fs12 lh16')\n",
    "            if exp_span is None:\n",
    "                continue\n",
    "            else:\n",
    "                experience = exp_span.text\n",
    "                print(experience)\n",
    "\n",
    "            # scraping the company\n",
    "            company = job_element.find('a', class_='subtitle ellipsis fleft')\n",
    "            print(company.text)\n",
    "\n",
    "            # data scraped\n",
    "            from datetime import date\n",
    "            today = date.today() #dd/mm/YY\n",
    "            date_today = today.strftime('%d/%m/%Y')\n",
    "            print(date_today)\n",
    "\n",
    "            # scraping the salary\n",
    "            salary = job_element.find('li', class_='fleft grey-text br2 placeHolderLi salary')\n",
    "            salary_span = salary.find('span', class_='ellipsis fleft fs12 lh16')\n",
    "            if salary_span is None:\n",
    "                continue\n",
    "            else:\n",
    "                salaries = salary_span.text\n",
    "                print(salaries)\n",
    "\n",
    "            # scraping the location\n",
    "            location = job_element.find('li',class_='fleft grey-text br2 placeHolderLi location')\n",
    "            loc_span = location.find('span',class_='ellipsis fleft fs12 lh16')\n",
    "            if loc_span is None:\n",
    "                continue\n",
    "            else:\n",
    "                loc = loc_span.text\n",
    "                print(loc)             \n",
    "\n",
    "            # scraping the tags   \n",
    "            tags = job_element.find('li',class_='fleft fs12 grey-text lh16 dot')\n",
    "            if tags is None:\n",
    "                continue\n",
    "            else:\n",
    "                assoc_tags = tags.text\n",
    "                print(assoc_tags)\n",
    "\n",
    "            # scraping the posted date\n",
    "            date = job_element.find(\"div\",[\"type br2 fleft grey\",\"type br2 fleft green\"])\n",
    "            date_posted = date.find('span',class_='fleft fw500')\n",
    "            if date_posted is None:\n",
    "                continue\n",
    "            else:\n",
    "                posted_d = date_posted.text\n",
    "                print(posted_d)     "
   ]
  },
  {
   "cell_type": "code",
   "execution_count": null,
   "metadata": {},
   "outputs": [],
   "source": [
    "df = df.append({'Job_Title': job_title.text,\n",
    "                'Experience': experience,\n",
    "                'Company': company.text,\n",
    "                'Scraping_Date': date_today,\n",
    "                'Salary': salaries,\n",
    "                'Location': loc,\n",
    "                'Tags_Associated': assoc_tags,\n",
    "                'Posting_Date': posted_d})"
   ]
  },
  {
   "cell_type": "code",
   "execution_count": null,
   "metadata": {},
   "outputs": [],
   "source": [
    "df.to_csv('jobs_data.csv')"
   ]
  }
 ],
 "metadata": {
  "kernelspec": {
   "display_name": "Python 3.9.12 ('base')",
   "language": "python",
   "name": "python3"
  },
  "language_info": {
   "codemirror_mode": {
    "name": "ipython",
    "version": 3
   },
   "file_extension": ".py",
   "mimetype": "text/x-python",
   "name": "python",
   "nbconvert_exporter": "python",
   "pygments_lexer": "ipython3",
   "version": "3.9.12"
  },
  "orig_nbformat": 4,
  "vscode": {
   "interpreter": {
    "hash": "ad2bdc8ecc057115af97d19610ffacc2b4e99fae6737bb82f5d7fb13d2f2c186"
   }
  }
 },
 "nbformat": 4,
 "nbformat_minor": 2
}
